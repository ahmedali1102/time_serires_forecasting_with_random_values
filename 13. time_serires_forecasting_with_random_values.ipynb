{
 "cells": [
  {
   "cell_type": "code",
   "execution_count": 4,
   "metadata": {},
   "outputs": [],
   "source": [
    "import numpy as np \n",
    "from tensorflow.keras.models import Sequential\n",
    "from tensorflow.keras.layers import LSTM, Dense"
   ]
  },
  {
   "cell_type": "code",
   "execution_count": 5,
   "metadata": {},
   "outputs": [],
   "source": [
    "# prepare independent features and dependent features\n",
    "def prepare_data(timeseries_data, n_features):\n",
    "    X, y = [], []\n",
    "    for i in range(len(timeseries_data)):\n",
    "        end_ix = i + n_features # 0->3, 1->4, 2->5, 3->6, 4->7, 5->8\n",
    "        if end_ix > len(timeseries_data) - 1:   # that is 8\n",
    "            break\n",
    "        # gather input and output parts of the pattern\n",
    "        seq_x, seq_y = timeseries_data[i:end_ix], timeseries_data[end_ix]\n",
    "        X.append(seq_x)\n",
    "        y.append(seq_y)\n",
    "    return np.array(X), np.array(y)"
   ]
  },
  {
   "cell_type": "markdown",
   "metadata": {},
   "source": [
    "### lets understand the above function\n",
    "\n",
    "timeseries_data = [110, 125, 133, 146, 158, 172, 187, 196, 210] and n_features = 3.\n",
    "\n",
    "#### Iteration 1 (i = 0):\n",
    "\n",
    "end_ix = i + n_features = 0 + 3 = 3\n",
    "\n",
    "seq_x = timeseries_data[0:3] = [110, 125, 133]\n",
    "\n",
    "seq_y = timeseries_data[3] = 146\n",
    "\n",
    "X becomes [[110, 125, 133]]\n",
    "\n",
    "y becomes [146]\n",
    "\n",
    "#### Iteration 2 (i = 1):\n",
    "\n",
    "end_ix = 1 + 3 = 4\n",
    "seq_x = timeseries_data[1:4] = [125, 133, 146]\n",
    "\n",
    "seq_y = timeseries_data[4] = 158\n",
    "\n",
    "X becomes [[110, 125, 133], [ 125, 133, 146]]\n",
    "\n",
    "y becomes [146, 158]\n",
    "\n",
    "#### Iteration 3 (i = 2):\n",
    "\n",
    "end_ix = 2 + 3 = 5\n",
    "\n",
    "seq_x = timeseries_data[2:5] = [133, 146, 158]\n",
    "\n",
    "seq_y = timeseries_data[5] = 172\n",
    "\n",
    "X becomes [[110, 125, 133], [ 125, 133, 146], [133, 146, 158]]\n",
    "\n",
    "y becomes [146, 158, 172]\n",
    "\n",
    "\n",
    "And so on....."
   ]
  },
  {
   "cell_type": "code",
   "execution_count": 35,
   "metadata": {},
   "outputs": [],
   "source": [
    "# define input sequence\n",
    "timeseries_data = [110, 125, 133, 146, 158, 172, 187, 196, 210, 225]\n",
    "\n",
    "# choose a number of time steps\n",
    "n_steps = 3\n",
    "\n",
    "# split into samples\n",
    "X, y = prepare_data(timeseries_data, n_steps)"
   ]
  },
  {
   "cell_type": "code",
   "execution_count": 36,
   "metadata": {
    "scrolled": true
   },
   "outputs": [
    {
     "name": "stdout",
     "output_type": "stream",
     "text": [
      "[[110 125 133]\n",
      " [125 133 146]\n",
      " [133 146 158]\n",
      " [146 158 172]\n",
      " [158 172 187]\n",
      " [172 187 196]\n",
      " [187 196 210]]\n",
      "[146 158 172 187 196 210 225]\n"
     ]
    }
   ],
   "source": [
    "print(X)\n",
    "print(y)"
   ]
  },
  {
   "cell_type": "code",
   "execution_count": 37,
   "metadata": {},
   "outputs": [
    {
     "data": {
      "text/plain": [
       "((7, 3), (7,))"
      ]
     },
     "execution_count": 37,
     "metadata": {},
     "output_type": "execute_result"
    }
   ],
   "source": [
    "X.shape, y.shape"
   ]
  },
  {
   "cell_type": "code",
   "execution_count": 38,
   "metadata": {},
   "outputs": [],
   "source": [
    "# reshape from [samples, timesptes] into [samples, timesteps, features]\n",
    "n_features = 1\n",
    "X = X.reshape(X.shape[0], X.shape[1], n_features)"
   ]
  },
  {
   "cell_type": "code",
   "execution_count": 39,
   "metadata": {},
   "outputs": [
    {
     "data": {
      "text/plain": [
       "(7, 3, 1)"
      ]
     },
     "execution_count": 39,
     "metadata": {},
     "output_type": "execute_result"
    }
   ],
   "source": [
    "X.shape"
   ]
  },
  {
   "cell_type": "markdown",
   "metadata": {},
   "source": [
    "# Building LSTM Model"
   ]
  },
  {
   "cell_type": "code",
   "execution_count": 49,
   "metadata": {},
   "outputs": [
    {
     "name": "stdout",
     "output_type": "stream",
     "text": [
      "Model: \"sequential_5\"\n",
      "_________________________________________________________________\n",
      " Layer (type)                Output Shape              Param #   \n",
      "=================================================================\n",
      " lstm_10 (LSTM)              (None, 3, 50)             10400     \n",
      "                                                                 \n",
      " lstm_11 (LSTM)              (None, 50)                20200     \n",
      "                                                                 \n",
      " dense_5 (Dense)             (None, 1)                 51        \n",
      "                                                                 \n",
      "=================================================================\n",
      "Total params: 30651 (119.73 KB)\n",
      "Trainable params: 30651 (119.73 KB)\n",
      "Non-trainable params: 0 (0.00 Byte)\n",
      "_________________________________________________________________\n"
     ]
    },
    {
     "data": {
      "text/plain": [
       "<keras.src.callbacks.History at 0x1e64ff21d20>"
      ]
     },
     "execution_count": 49,
     "metadata": {},
     "output_type": "execute_result"
    }
   ],
   "source": [
    "model = Sequential()\n",
    "model.add(LSTM(50, activation='relu', return_sequences=True, input_shape=(n_steps, n_features)))\n",
    "model.add(LSTM(50, activation='relu'))\n",
    "model.add(Dense(1))\n",
    "model.compile(optimizer='adam', loss='mse')\n",
    "model.summary()\n",
    "# fit model\n",
    "model.fit(X, y, epochs=300, verbose=0)"
   ]
  },
  {
   "cell_type": "markdown",
   "metadata": {},
   "source": [
    "# Predicting for the next 10 days"
   ]
  },
  {
   "cell_type": "code",
   "execution_count": 58,
   "metadata": {},
   "outputs": [
    {
     "name": "stdout",
     "output_type": "stream",
     "text": [
      "1 day input: [210.         225.         235.40763855]\n",
      "1 day output: 250.3532257080078\n",
      "\n",
      "2 day input: [225.         235.40763855 250.35322571]\n",
      "2 day output: 265.4530029296875\n",
      "\n",
      "3 day input: [235.40764 250.35323 265.453  ]\n",
      "3 day output: 278.65087890625\n",
      "\n",
      "4 day input: [250.35323 265.453   278.65088]\n",
      "4 day output: 295.0951843261719\n",
      "\n",
      "5 day input: [265.453   278.65088 295.09518]\n",
      "5 day output: 311.60504150390625\n",
      "\n",
      "6 day input: [278.65088 295.09518 311.60504]\n",
      "6 day output: 327.665283203125\n",
      "\n",
      "7 day input: [295.09518 311.60504 327.66528]\n",
      "7 day output: 346.1847839355469\n",
      "\n",
      "8 day input: [311.60504 327.66528 346.18478]\n",
      "8 day output: 364.9845886230469\n",
      "\n",
      "9 day input: [327.66528 346.18478 364.9846 ]\n",
      "9 day output: 384.1617736816406\n",
      "\n",
      "10 day input: [346.18478 364.9846  384.16177]\n",
      "10 day output: 405.37408447265625\n",
      "\n"
     ]
    }
   ],
   "source": [
    "x_input = np.array([ 196, 210, 225])\n",
    "temp_input = list(x_input)\n",
    "lst_output = []\n",
    "i = 0\n",
    "while(i<=10):\n",
    "    if (len(temp_input) > 3):\n",
    "        x_input = np.array(temp_input[1:])\n",
    "        #print(x_input)\n",
    "        print(\"{} day input: {}\".format(i, x_input))\n",
    "        x_input = x_input.reshape((1, n_steps, n_features))\n",
    "        yhat = model.predict(x_input, verbose=0)\n",
    "        print(\"{} day output: {}\".format(i, yhat[0][0]))\n",
    "        print()\n",
    "        temp_input.append(yhat[0][0])\n",
    "        temp_input = temp_input[1:]\n",
    "        # print(temp_input)\n",
    "        lst_output.append(yhat[0][0])\n",
    "        i = i + 1\n",
    "    else:\n",
    "        x_input = x_input.reshape((1, n_steps, n_features))\n",
    "        yhat = model.predict(x_input, verbose=0)\n",
    "        # print(yhat.shape)\n",
    "        # print(yhat[0][0])\n",
    "        temp_input.append(yhat[0][0])\n",
    "        lst_output.append(yhat[0][0])\n",
    "        i = i + 1\n",
    "    "
   ]
  },
  {
   "cell_type": "markdown",
   "metadata": {},
   "source": [
    "# Visualizing the output\n"
   ]
  },
  {
   "cell_type": "code",
   "execution_count": 52,
   "metadata": {},
   "outputs": [],
   "source": [
    "import matplotlib.pyplot as plt "
   ]
  },
  {
   "cell_type": "code",
   "execution_count": 53,
   "metadata": {},
   "outputs": [
    {
     "data": {
      "text/plain": [
       "[110, 125, 133, 146, 158, 172, 187, 196, 210, 225]"
      ]
     },
     "execution_count": 53,
     "metadata": {},
     "output_type": "execute_result"
    }
   ],
   "source": [
    "timeseries_data "
   ]
  },
  {
   "cell_type": "code",
   "execution_count": 54,
   "metadata": {},
   "outputs": [
    {
     "data": {
      "text/plain": [
       "[235.40764,\n",
       " 250.35323,\n",
       " 265.453,\n",
       " 278.65088,\n",
       " 295.09518,\n",
       " 311.60504,\n",
       " 327.66528,\n",
       " 346.18478,\n",
       " 364.9846,\n",
       " 384.16177,\n",
       " 405.37408]"
      ]
     },
     "execution_count": 54,
     "metadata": {},
     "output_type": "execute_result"
    }
   ],
   "source": [
    "lst_output"
   ]
  },
  {
   "cell_type": "code",
   "execution_count": 55,
   "metadata": {},
   "outputs": [
    {
     "name": "stdout",
     "output_type": "stream",
     "text": [
      "[ 1  2  3  4  5  6  7  8  9 10] [10 11 12 13 14 15 16 17 18 19 20]\n"
     ]
    }
   ],
   "source": [
    "day_new = np.arange(1, 11)\n",
    "day_pred = np.arange(10, 21)\n",
    "print(day_new,day_pred)"
   ]
  },
  {
   "cell_type": "code",
   "execution_count": 62,
   "metadata": {},
   "outputs": [
    {
     "data": {
      "image/png": "[encoded data removed]",
      "text/plain": [
       "<Figure size 640x480 with 1 Axes>"
      ]
     },
     "metadata": {},
     "output_type": "display_data"
    }
   ],
   "source": [
    "plt.plot(day_new, timeseries_data,label = \"Actual value\")\n",
    "plt.plot(day_pred, lst_output,label = \"future 10 data forcasting\")\n",
    "plt.title('Time Series Data and LSTM Predictions')\n",
    "plt.legend()\n",
    "plt.show()"
   ]
  },
  {
   "cell_type": "code",
   "execution_count": null,
   "metadata": {},
   "outputs": [],
   "source": []
  }
 ],
 "metadata": {
  "kernelspec": {
   "display_name": "Python 3 (ipykernel)",
   "language": "python",
   "name": "python3"
  },
  "language_info": {
   "codemirror_mode": {
    "name": "ipython",
    "version": 3
   },
   "file_extension": ".py",
   "mimetype": "text/x-python",
   "name": "python",
   "nbconvert_exporter": "python",
   "pygments_lexer": "ipython3",
   "version": "3.10.9"
  }
 },
 "nbformat": 4,
 "nbformat_minor": 2
}
